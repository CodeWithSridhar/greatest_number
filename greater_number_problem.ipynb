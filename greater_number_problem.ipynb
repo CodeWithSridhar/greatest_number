{
  "nbformat": 4,
  "nbformat_minor": 0,
  "metadata": {
    "colab": {
      "name": "greater number problem.ipynb",
      "provenance": [],
      "authorship_tag": "ABX9TyOwqV/IiXCMzcMP2hPuYhoO",
      "include_colab_link": true
    },
    "kernelspec": {
      "name": "python3",
      "display_name": "Python 3"
    },
    "language_info": {
      "name": "python"
    }
  },
  "cells": [
    {
      "cell_type": "markdown",
      "metadata": {
        "id": "view-in-github",
        "colab_type": "text"
      },
      "source": [
        "<a href=\"https://colab.research.google.com/github/CodeWithSridhar/greatest_number/blob/main/greater_number_problem.ipynb\" target=\"_parent\"><img src=\"https://colab.research.google.com/assets/colab-badge.svg\" alt=\"Open In Colab\"/></a>"
      ]
    },
    {
      "cell_type": "code",
      "metadata": {
        "id": "jgqU-CDxeRDM"
      },
      "source": [
        "num1 = int(input(\"Enter number 1: \"))\n",
        "num2 = int(input(\"Enter number 2: \"))\n",
        "num3 = int(input(\"Enter number 3: \"))\n",
        "num4 = int(input(\"Enter number 4: \"))\n",
        "\n",
        "if(num1>num4):\n",
        "    f1 = num1\n",
        "else:\n",
        "    f1 = num4\n",
        "\n",
        "if(num2>num3):\n",
        "    f2 = num2\n",
        "else:\n",
        "    f2 = num3\n",
        "\n",
        "if(f1>f2):\n",
        "    print(str(f1) + \" is greatest\")\n",
        "else:\n",
        "    print(str(f2) + \" is greatest\")"
      ],
      "execution_count": null,
      "outputs": []
    }
  ]
}